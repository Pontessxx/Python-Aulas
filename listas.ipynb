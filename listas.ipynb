{
 "cells": [
  {
   "cell_type": "markdown",
   "metadata": {},
   "source": [
    "# LISTAS\n",
    "- Listas são estruturas de dados básicas do Python\n",
    "- Armazenam um conjunto de dados organizados sequencialmente\n"
   ]
  },
  {
   "cell_type": "markdown",
   "metadata": {},
   "source": [
    "- Sequência de itens\n",
    "- Delimitada por colchetes `[ ]`\n",
    "- Estrutura mutável: pode ser alterada\n",
    "- Estrutura heterogênea: pode conter diferentes tipos de dados"
   ]
  },
  {
   "cell_type": "code",
   "execution_count": 4,
   "metadata": {},
   "outputs": [
    {
     "name": "stdout",
     "output_type": "stream",
     "text": [
      "[2, 'abc', 4.5, 4] - lista/array\n",
      "[] -lista vazia\n"
     ]
    }
   ],
   "source": [
    "lista = [2, 'abc', 4.5, 4]\n",
    "print(lista, '- lista/array')\n",
    "\n",
    "lista_vazia = []\n",
    "print(lista_vazia, '-lista vazia')"
   ]
  },
  {
   "cell_type": "markdown",
   "metadata": {},
   "source": [
    "## Índice\n",
    "define a posição de um item na lista\n",
    "índice inicial sempre é 0 (zero)"
   ]
  },
  {
   "cell_type": "code",
   "execution_count": 8,
   "metadata": {},
   "outputs": [
    {
     "name": "stdout",
     "output_type": "stream",
     "text": [
      "itemA - indice - 0\n",
      "itemB - indice - 1\n",
      "itemC - indice - 2\n"
     ]
    }
   ],
   "source": [
    "lista = ['itemA', 'itemB', 'itemC']\n",
    "print(lista[0], '- indice - 0')\n",
    "print(lista[1], '- indice - 1')\n",
    "print(lista[2], '- indice - 2')\n"
   ]
  },
  {
   "cell_type": "markdown",
   "metadata": {},
   "source": [
    "- índices negativos indicam posições referentes ao final da lista\n",
    "- índice do último item sempre é o -1\n"
   ]
  },
  {
   "cell_type": "code",
   "execution_count": 10,
   "metadata": {},
   "outputs": [
    {
     "name": "stdout",
     "output_type": "stream",
     "text": [
      "itemC\n"
     ]
    }
   ],
   "source": [
    "#  lista = ['itemA', 'itemB', 'itemC']\n",
    "print(lista[-1])"
   ]
  },
  {
   "cell_type": "markdown",
   "metadata": {},
   "source": [
    "## append(item)\n",
    "adiciona um item ao final da lista"
   ]
  },
  {
   "cell_type": "code",
   "execution_count": 14,
   "metadata": {},
   "outputs": [
    {
     "name": "stdout",
     "output_type": "stream",
     "text": [
      "['itemA', 'itemB', 'itemC'] - lista antes do append\n",
      "['itemA', 'itemB', 'itemC', 'itemD'] - depois do append\n"
     ]
    }
   ],
   "source": [
    "lista = ['itemA', 'itemB', 'itemC']\n",
    "print(lista, '- lista antes do append')\n",
    "lista.append('itemD')\n",
    "print(lista, '- depois do append')"
   ]
  },
  {
   "cell_type": "markdown",
   "metadata": {},
   "source": [
    "## len(lista)\n",
    "retorna o `tamanho` da lista"
   ]
  },
  {
   "cell_type": "code",
   "execution_count": 16,
   "metadata": {},
   "outputs": [
    {
     "name": "stdout",
     "output_type": "stream",
     "text": [
      "['itemA', 'itemB', 'itemC', 'itemD']\n",
      "4\n"
     ]
    }
   ],
   "source": [
    "print(lista)\n",
    "print(len(lista))"
   ]
  },
  {
   "cell_type": "markdown",
   "metadata": {},
   "source": [
    "## count(item)\n",
    "retorna a `quantidade de um mesmo item` na lista"
   ]
  },
  {
   "cell_type": "code",
   "execution_count": 17,
   "metadata": {},
   "outputs": [
    {
     "name": "stdout",
     "output_type": "stream",
     "text": [
      "3\n"
     ]
    }
   ],
   "source": [
    "lista = ['a','b','c','d','a','a']\n",
    "print(lista.count('a'))"
   ]
  },
  {
   "cell_type": "markdown",
   "metadata": {},
   "source": [
    "## operador in\n",
    "verifica se determinado item existe em uma lista"
   ]
  },
  {
   "cell_type": "code",
   "execution_count": 18,
   "metadata": {},
   "outputs": [
    {
     "name": "stdout",
     "output_type": "stream",
     "text": [
      "Item encontrado\n"
     ]
    }
   ],
   "source": [
    "lista = [3, 5, 7, 10, 10, 9, 8, 10]\n",
    "if 10 in lista:\n",
    " print('Item encontrado')\n",
    "else:\n",
    " print('Item não encontrado')"
   ]
  },
  {
   "cell_type": "markdown",
   "metadata": {},
   "source": [
    "## insert(indice, item)\n",
    "insere um item em determinado indice"
   ]
  },
  {
   "cell_type": "code",
   "execution_count": 19,
   "metadata": {},
   "outputs": [
    {
     "name": "stdout",
     "output_type": "stream",
     "text": [
      "[3, 5, 7, 10, 10, 9, 8, 10]\n",
      "[3, 5, 7, 2000, 10, 10, 9, 8, 10]\n"
     ]
    }
   ],
   "source": [
    "print(lista)\n",
    "lista.insert(3, 2000) #indice 3\n",
    "print(lista)"
   ]
  },
  {
   "cell_type": "markdown",
   "metadata": {},
   "source": [
    "## pop(ultimo ou indice)\n",
    "remove o ultimo item da lista"
   ]
  },
  {
   "cell_type": "code",
   "execution_count": 21,
   "metadata": {},
   "outputs": [
    {
     "name": "stdout",
     "output_type": "stream",
     "text": [
      "[3, 5, 7, 8, 5, 9, 8, 10]\n",
      "[3, 5, 8, 5, 9, 8]\n"
     ]
    }
   ],
   "source": [
    "lista = [3, 5, 7, 8, 5, 9, 8, 10]\n",
    "print(lista)\n",
    "lista.pop()\n",
    "lista.pop(2)\n",
    "print(lista)\n"
   ]
  },
  {
   "cell_type": "markdown",
   "metadata": {},
   "source": [
    "## remove(item)\n",
    "remove a primeira ocorrência de um determinado item\n",
    "remove apenas a primeira ocorrência"
   ]
  },
  {
   "cell_type": "code",
   "execution_count": 26,
   "metadata": {},
   "outputs": [
    {
     "name": "stdout",
     "output_type": "stream",
     "text": [
      "[3, 5, 5, 5, 5, 5, 5, 6, 7, 7, 9, 8, 10, 8]\n",
      "[3, 6, 7, 7, 9, 8, 10, 8]\n"
     ]
    }
   ],
   "source": [
    "lista = [3, 5, 5, 5 , 5, 5, 5, 6, 7, 7,9, 8, 10, 8]\n",
    "print(lista)\n",
    "while 5 in lista:\n",
    " lista.remove(5)\n",
    "print(lista)"
   ]
  },
  {
   "cell_type": "markdown",
   "metadata": {},
   "source": [
    "## sort()\n",
    "ordena a lista em ordem crescente"
   ]
  },
  {
   "cell_type": "code",
   "execution_count": 27,
   "metadata": {},
   "outputs": [
    {
     "name": "stdout",
     "output_type": "stream",
     "text": [
      "[3, 6, 7, 7, 8, 8, 9, 10]\n"
     ]
    }
   ],
   "source": [
    "lista.sort()\n",
    "print(lista)"
   ]
  },
  {
   "cell_type": "markdown",
   "metadata": {},
   "source": [
    "### sort(reverse = True)\n",
    "ordena a lista em ordem decrescente"
   ]
  },
  {
   "cell_type": "code",
   "execution_count": 29,
   "metadata": {},
   "outputs": [
    {
     "name": "stdout",
     "output_type": "stream",
     "text": [
      "[10, 9, 8, 8, 7, 7, 6, 3]\n"
     ]
    }
   ],
   "source": [
    "lista.sort(reverse=True)\n",
    "print(lista)"
   ]
  },
  {
   "cell_type": "markdown",
   "metadata": {},
   "source": [
    "## Min e Max\n",
    "retorna o menor elemento e maior elemetno"
   ]
  },
  {
   "cell_type": "code",
   "execution_count": 31,
   "metadata": {},
   "outputs": [
    {
     "name": "stdout",
     "output_type": "stream",
     "text": [
      "3\n",
      "10\n"
     ]
    }
   ],
   "source": [
    "print(min(lista))\n",
    "print(max(lista))"
   ]
  },
  {
   "cell_type": "markdown",
   "metadata": {},
   "source": [
    "## Sum \n",
    "retorna o somatorio da lista"
   ]
  },
  {
   "cell_type": "code",
   "execution_count": 32,
   "metadata": {},
   "outputs": [
    {
     "name": "stdout",
     "output_type": "stream",
     "text": [
      "58\n"
     ]
    }
   ],
   "source": [
    "print(sum(lista))"
   ]
  },
  {
   "cell_type": "markdown",
   "metadata": {},
   "source": [
    "## Percorrendo índices da lista\n",
    "repeticao `for` pode ser usada para percorrer a lista"
   ]
  },
  {
   "cell_type": "code",
   "execution_count": 36,
   "metadata": {},
   "outputs": [
    {
     "name": "stdout",
     "output_type": "stream",
     "text": [
      "[3, 6, 7, 7, 8, 8, 9, 10]\n",
      "indice: 0  valor: 3\n",
      "indice: 1  valor: 6\n",
      "indice: 2  valor: 7\n",
      "indice: 3  valor: 7\n",
      "indice: 4  valor: 8\n",
      "indice: 5  valor: 8\n",
      "indice: 6  valor: 9\n",
      "indice: 7  valor: 10\n"
     ]
    }
   ],
   "source": [
    "lista.sort()\n",
    "print(lista)\n",
    "for indice in range(len(lista)): \n",
    "    print(f'indice: {indice}  valor: {lista[indice]}')"
   ]
  },
  {
   "cell_type": "markdown",
   "metadata": {},
   "source": [
    "## Preenchendo listas\n",
    "usando o input para interação com o usuario"
   ]
  },
  {
   "cell_type": "code",
   "execution_count": 37,
   "metadata": {},
   "outputs": [
    {
     "name": "stdout",
     "output_type": "stream",
     "text": [
      "[1, 2, 3]\n"
     ]
    }
   ],
   "source": [
    "lista = []\n",
    "for i in range(3):\n",
    "    a = int(input('Digite um número: '))\n",
    "    lista.append(a)\n",
    "print(lista)"
   ]
  },
  {
   "cell_type": "markdown",
   "metadata": {},
   "source": [
    "## Junção de listas (concatenação)"
   ]
  },
  {
   "cell_type": "code",
   "execution_count": 40,
   "metadata": {},
   "outputs": [
    {
     "name": "stdout",
     "output_type": "stream",
     "text": [
      "[3, 3, 4, 4, 7, 8]\n"
     ]
    }
   ],
   "source": [
    "lista1 = [4, 7, 8, 3]\n",
    "lista2 = [3, 4]\n",
    "lista3 = lista1 + lista2\n",
    "lista3.sort()\n",
    "print(lista3)\n"
   ]
  },
  {
   "cell_type": "markdown",
   "metadata": {},
   "source": [
    "## Fatiamento de Listas\n",
    "As listas podem ser fatiadas, da mesma forma que as strings.\n",
    "<br>\n",
    "`lista[inicio:fim:passo]`"
   ]
  },
  {
   "cell_type": "code",
   "execution_count": 41,
   "metadata": {},
   "outputs": [
    {
     "name": "stdout",
     "output_type": "stream",
     "text": [
      "[7, 88, 1, 95, 2, 5]\n",
      "[7, 1, 2]\n",
      "[3, 10, 7, 88, 1, 95, 2, 5, 6]\n",
      "[3, 7, 1, 2, 6]\n",
      "[6, 5, 2, 95, 1, 88, 7, 10, 3]\n"
     ]
    }
   ],
   "source": [
    "lista = [3, 10, 7, 88, 1, 95, 2, 5, 6]\n",
    "print(lista[2:8])\n",
    "print(lista[2:8:2])\n",
    "print(lista[:]) # do início ao fim\n",
    "print(lista[::2]) # do início ao fim de 2 em dois\n",
    "print(lista[::-1]) # do fim ao início"
   ]
  }
 ],
 "metadata": {
  "kernelspec": {
   "display_name": "Python 3",
   "language": "python",
   "name": "python3"
  },
  "language_info": {
   "codemirror_mode": {
    "name": "ipython",
    "version": 3
   },
   "file_extension": ".py",
   "mimetype": "text/x-python",
   "name": "python",
   "nbconvert_exporter": "python",
   "pygments_lexer": "ipython3",
   "version": "3.11.3"
  },
  "orig_nbformat": 4
 },
 "nbformat": 4,
 "nbformat_minor": 2
}
