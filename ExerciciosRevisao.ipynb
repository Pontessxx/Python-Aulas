{
 "cells": [
  {
   "cell_type": "markdown",
   "metadata": {},
   "source": [
    "# Estruturas Básicas em Python – Exercícios de Revisão"
   ]
  },
  {
   "cell_type": "markdown",
   "metadata": {},
   "source": [
    "## Exercício 01\n",
    "Implemente a função **somar** que recebe dois números e retorna o resultado da soma desses dois\n",
    "números.\n",
    "Lembre-se que para retornar um resultado a função deve utilizar a instrução `return.`"
   ]
  },
  {
   "cell_type": "code",
   "execution_count": 4,
   "metadata": {},
   "outputs": [
    {
     "name": "stdout",
     "output_type": "stream",
     "text": [
      "\n",
      "numeros: (10, 20)\n",
      "a soma dos valores são de : 30\n"
     ]
    }
   ],
   "source": [
    "def soma(i,z):\n",
    "    soma = i + z\n",
    "    return print(f'\\nnumeros: {i , z}\\na soma dos valores são de : {soma}')\n",
    "n1 = int(input('Digite o valor do primeiro numero: '))\n",
    "n2 = int(input('Digite o valor do segundo numero: '))\n",
    "soma(n1,n2)"
   ]
  },
  {
   "cell_type": "markdown",
   "metadata": {},
   "source": [
    "## Exercício 02\n",
    "Implemente a **função quadrado** que recebe um número e retorna o resultado desse número ao\n",
    "quadrado."
   ]
  },
  {
   "cell_type": "code",
   "execution_count": 5,
   "metadata": {},
   "outputs": [
    {
     "name": "stdout",
     "output_type": "stream",
     "text": [
      "o numero 7 ao quadrado é: 49\n"
     ]
    }
   ],
   "source": [
    "def quadrado(i):\n",
    "    return print(f'o numero {i} ao quadrado é: {i**2}')\n",
    "n1 = int(input('digite o numero: '))\n",
    "quadrado(n1)"
   ]
  },
  {
   "cell_type": "markdown",
   "metadata": {},
   "source": [
    "## Exercício 03\n",
    "Implemente a **função soma_dos_quadrados** que receba dois numeros e devolve a soma dos seus\n",
    "quadrados.\n",
    "Você pode tentar reutilizar a função quadrado definida anteriormente para facilitar a implementação.\n"
   ]
  },
  {
   "cell_type": "code",
   "execution_count": 7,
   "metadata": {},
   "outputs": [
    {
     "name": "stdout",
     "output_type": "stream",
     "text": [
      "quadrado do primeiro: 49\n",
      "quadrado do primeiro: 64\n",
      "a soma dos quadrados é: 113\n"
     ]
    }
   ],
   "source": [
    "def quadrado(i,z):\n",
    "    i = (i**2)\n",
    "    z = (z**2)\n",
    "    soma = i + z\n",
    "    print(f'quadrado do primeiro: {i}')\n",
    "    print(f'quadrado do primeiro: {z}')\n",
    "    print(f'a soma dos quadrados é: {soma}')\n",
    "n1 = int(input('digite o numero: '))\n",
    "n2 = int(input('digite o numero: '))\n",
    "quadrado(n1,n2)"
   ]
  },
  {
   "cell_type": "markdown",
   "metadata": {},
   "source": [
    "## Exercício 04\n",
    "Implemente a função media, que recebe três valores numéricos e retorna a média aritmética dos\n",
    "valores.\n"
   ]
  },
  {
   "cell_type": "code",
   "execution_count": 1,
   "metadata": {},
   "outputs": [
    {
     "name": "stdout",
     "output_type": "stream",
     "text": [
      "A média dos valores 10, 5 e 6 é 7.0\n"
     ]
    }
   ],
   "source": [
    "import numpy as np\n",
    "def media(i,z,x):\n",
    "    valores = np.array([i, z, x])\n",
    "    resultado = np.mean(valores)\n",
    "    return resultado\n",
    "\n",
    "a = int(input('numero: '))\n",
    "b = int(input('numero: '))\n",
    "c = int(input('numero: '))\n",
    "media_resultado = media(a, b, c)\n",
    "print(f'A média dos valores {a}, {b} e {c} é:  {media_resultado}')"
   ]
  },
  {
   "cell_type": "markdown",
   "metadata": {},
   "source": [
    "## Exercício 05\n",
    "Implemente a função calcular_salario, que recebe o salário atual de um funcionário e retorna o\n",
    "salário com um reajuste de aumento, sendo que:\n",
    "- Caso o salário seja maior que R$ 2.000,00, o funcionário receberá 7% de aumento.\n",
    "- Caso contrário, o funcionário receberá 15% de aumento.\n"
   ]
  },
  {
   "cell_type": "code",
   "execution_count": 6,
   "metadata": {},
   "outputs": [
    {
     "name": "stdout",
     "output_type": "stream",
     "text": [
      "salario inicial: 2010\n",
      "o aumento foi de : 140.7\n",
      "o salario ficou : 2150.7\n"
     ]
    }
   ],
   "source": [
    "def calcula_salario(s):\n",
    "    if(s > 2000):\n",
    "        aumento = s*(7 / 100)\n",
    "        s = aumento  + s\n",
    "    else:\n",
    "        aumento = s*(15/100)\n",
    "        s = aumento + s\n",
    "    print(f'o aumento foi de : {round(aumento, 2)}')\n",
    "    print(f'o salario ficou : {s}')\n",
    "\n",
    "salario = int(input('digite o salario: '))\n",
    "print(f'salario inicial: {salario}')\n",
    "calcula_salario(salario)"
   ]
  },
  {
   "cell_type": "markdown",
   "metadata": {},
   "source": [
    "## Exercício 06\n",
    "Implemente a função soma_divisores, que recebe como parâmetro de entrada um número positivo\n",
    "e retorna a soma de todos os divisores desse número.\n",
    "Por exemplo:\n",
    "- caso o número seja 15, o retorno deve ser 24 (1 + 3 + 5 + 15).\n",
    "- caso o número seja 30, o retorno deve ser 72 (1 + 2 + 3 + 5 + 6 + 10 + 15 + 30)"
   ]
  },
  {
   "cell_type": "code",
   "execution_count": 7,
   "metadata": {},
   "outputs": [
    {
     "name": "stdout",
     "output_type": "stream",
     "text": [
      "A soma dos divisores de 15 é 24\n",
      "A soma dos divisores de 30 é 72\n"
     ]
    }
   ],
   "source": [
    "def soma_divisores(numero):\n",
    "    if numero <= 0:\n",
    "        return 0  # Retorna 0 se o número não for positivo\n",
    "    \n",
    "    soma = 0\n",
    "    for i in range(1, numero + 1):\n",
    "        if numero % i == 0:\n",
    "            soma += i\n",
    "\n",
    "    return soma\n",
    "\n",
    "# Exemplos de uso da função\n",
    "numero1 = int(input('digite o numero: '))\n",
    "resultado1 = soma_divisores(numero1)\n",
    "print(f'A soma dos divisores de {numero1} é {resultado1}')\n",
    "\n",
    "numero2 = int(input('digite o numero: '))\n",
    "resultado2 = soma_divisores(numero2)\n",
    "print(f'A soma dos divisores de {numero2} é {resultado2}')"
   ]
  }
 ],
 "metadata": {
  "kernelspec": {
   "display_name": "Python 3",
   "language": "python",
   "name": "python3"
  },
  "language_info": {
   "codemirror_mode": {
    "name": "ipython",
    "version": 3
   },
   "file_extension": ".py",
   "mimetype": "text/x-python",
   "name": "python",
   "nbconvert_exporter": "python",
   "pygments_lexer": "ipython3",
   "version": "3.11.3"
  },
  "orig_nbformat": 4
 },
 "nbformat": 4,
 "nbformat_minor": 2
}
