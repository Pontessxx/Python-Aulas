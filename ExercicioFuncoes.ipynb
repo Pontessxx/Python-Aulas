{
 "cells": [
  {
   "cell_type": "markdown",
   "metadata": {},
   "source": [
    "# Exercícios – Funções e utilização de parâmetros"
   ]
  },
  {
   "cell_type": "markdown",
   "metadata": {},
   "source": [
    "1. Escreva uma função chamada mostrar_informacoes que aceite três parâmetros\n",
    "nomeados: nome, idade e cidade. A função deve imprimir uma mensagem\n",
    "formatada com essas informações."
   ]
  },
  {
   "cell_type": "code",
   "execution_count": null,
   "metadata": {},
   "outputs": [],
   "source": [
    "def mostrar_informacoes(nome, idade, cidade):\n",
    "    mensagem = f\"Nome: {nome}, Idade: {idade}, Cidade: {cidade}\"\n",
    "    print(mensagem)\n",
    "\n",
    "# inputs das variaveis\n",
    "nome = str(input('Digite o seu nome: '))\n",
    "idade = int(input('Digite sua idade: '))\n",
    "cidade = str(input('Digite a cidade: '))\n",
    "# Exemplo de uso da função\n",
    "mostrar_informacoes(nome, idade, cidade)"
   ]
  },
  {
   "cell_type": "markdown",
   "metadata": {},
   "source": [
    "2. Crie uma função chamada calcular_area_retangulo que aceite dois parâmetros:\n",
    "base e altura, ambos com valores padrão iguais a 1. A função deve retornar a área\n",
    "do retângulo."
   ]
  },
  {
   "cell_type": "code",
   "execution_count": 2,
   "metadata": {},
   "outputs": [
    {
     "name": "stdout",
     "output_type": "stream",
     "text": [
      "Area: 0.5\n",
      "Base: 1\n",
      "altura: 1\n"
     ]
    }
   ],
   "source": [
    "def calcular_area_triangulo(b,h):\n",
    "    area = (b *h)/2\n",
    "    return print(f'Area: {area}')\n",
    "b=1\n",
    "h=1\n",
    "calcular_area_triangulo(b,h)\n",
    "print(f'Base: {b}')\n",
    "print(f'altura: {h}')"
   ]
  },
  {
   "cell_type": "markdown",
   "metadata": {},
   "source": [
    "3. Defina uma função chamada soma que aceite dois parâmetros numéricos (a e b) e\n",
    "retorne a soma desses números. Utilize anotações de tipos para indicar que os\n",
    "parâmetros e o retorno são do tipo float."
   ]
  },
  {
   "cell_type": "code",
   "execution_count": 4,
   "metadata": {},
   "outputs": [
    {
     "name": "stdout",
     "output_type": "stream",
     "text": [
      "A soma de 5.5 e 3.0 é 8.5\n"
     ]
    }
   ],
   "source": [
    "def soma(a: float, b: float) -> float:\n",
    "    resultado = a + b\n",
    "    return resultado\n",
    "\n",
    "# Exemplo de uso da função\n",
    "numero1 = float(input('Numero: '))\n",
    "numero2 = float(input('Numero: '))\n",
    "\n",
    "resultado = soma(numero1, numero2)\n",
    "print(f'A soma de {numero1} e {numero2} é {resultado}')\n"
   ]
  },
  {
   "cell_type": "markdown",
   "metadata": {},
   "source": [
    "4. Crie uma função chamada `enviar_email` que aceite os parâmetros destinatario,\n",
    "assunto e corpo. O parâmetro assunto deve ter um valor padrão de \"Sem assunto\".\n",
    "O parâmetro corpo deve ter um valor padrão de uma string vazia. A função deve\n",
    "imprimir as informações formatadas. Inclua uma docstring que explique brevemente\n",
    "o propósito da função."
   ]
  },
  {
   "cell_type": "code",
   "execution_count": 6,
   "metadata": {},
   "outputs": [
    {
     "name": "stdout",
     "output_type": "stream",
     "text": [
      "Para: exemplo@email.com\n",
      "Assunto: Reunião\n",
      "Corpo:Lembre-se da reunião amanhã às 10h.\n"
     ]
    }
   ],
   "source": [
    "def enviar_email(d,a,c):\n",
    "    mensagem = f\"Para: {d}\\nAssunto: {a}\\nCorpo:{c}\"\n",
    "    print(mensagem)\n",
    "\n",
    "destinatario=\"exemplo@email.com\"\n",
    "assunto=\"Reunião\"\n",
    "corpo=\"Lembre-se da reunião amanhã às 10h.\"\n",
    "# Exemplo de uso da função\n",
    "enviar_email(destinatario,assunto,corpo )"
   ]
  },
  {
   "cell_type": "markdown",
   "metadata": {},
   "source": [
    "5. Defina uma função chamada concatenar_strings que aceite duas strings e um\n",
    "parâmetro nomeado separador com um valor padrão de espaço. A função deve\n",
    "retornar as duas strings concatenadas com o separador entre elas"
   ]
  },
  {
   "cell_type": "code",
   "execution_count": 8,
   "metadata": {},
   "outputs": [
    {
     "name": "stdout",
     "output_type": "stream",
     "text": [
      "Olá Mundo\n",
      "Olá - Mundo\n"
     ]
    }
   ],
   "source": [
    "def concatenar_strings(string1, string2, separador=\" \"):\n",
    "    resultado = string1 + separador + string2\n",
    "    return resultado\n",
    "\n",
    "# Exemplos de uso da função\n",
    "texto1 = \"Olá\"\n",
    "texto2 = \"Mundo\"\n",
    "\n",
    "# Chamada sem especificar o separador (usa o valor padrão, espaço)\n",
    "resultado1 = concatenar_strings(texto1, texto2)\n",
    "print(resultado1)  # Isso imprimirá \"Olá Mundo\"\n",
    "\n",
    "# Chamada especificando um separador diferente\n",
    "resultado2 = concatenar_strings(texto1, texto2, separador=\" - \")\n",
    "print(resultado2)  # Isso imprimirá \"Olá-Mundo\"\n"
   ]
  },
  {
   "cell_type": "markdown",
   "metadata": {},
   "source": [
    "6. Crie uma função chamada comprar_produto que aceite dois parâmetros nomeados:\n",
    "produto e quantidade. O parâmetro produto deve ter um valor padrão de \"produto\n",
    "desconhecido\" e o parâmetro quantidade deve ter um valor padrão de 1. A função\n",
    "deve retornar uma mensagem indicando a compra do produto na quantidade\n",
    "especificada.\n"
   ]
  },
  {
   "cell_type": "code",
   "execution_count": 9,
   "metadata": {},
   "outputs": [
    {
     "name": "stdout",
     "output_type": "stream",
     "text": [
      "Você comprou 1 unidades do produto 'produto desconhecido'.\n",
      "Você comprou 3 unidades do produto 'Camiseta'.\n"
     ]
    }
   ],
   "source": [
    "def comprar_produto(produto=\"produto desconhecido\", quantidade=1):\n",
    "    mensagem = f\"Você comprou {quantidade} unidades do produto '{produto}'.\"\n",
    "    return mensagem\n",
    "\n",
    "# Exemplos de uso da função\n",
    "compra1 = comprar_produto()  # Usando os valores padrão\n",
    "print(compra1)  # Isso imprimirá \"Você comprou 1 unidades do produto 'produto desconhecido'.\"\n",
    "\n",
    "compra2 = comprar_produto(\"Camiseta\", 3)  # Especificando o produto e a quantidade\n",
    "print(compra2)  # Isso imprimirá \"Você comprou 3 unidades do produto 'Camiseta'.\"\n"
   ]
  },
  {
   "cell_type": "markdown",
   "metadata": {},
   "source": [
    "7. Crie uma função que aceite um parâmetro nomeado itens que seja uma lista de\n",
    "strings. A função deve imprimir cada item da lista em linhas separadas."
   ]
  },
  {
   "cell_type": "code",
   "execution_count": 10,
   "metadata": {},
   "outputs": [
    {
     "name": "stdout",
     "output_type": "stream",
     "text": [
      "Item 1\n",
      "Item 2\n",
      "Item 3\n"
     ]
    }
   ],
   "source": [
    "def imprimir_itens(itens):\n",
    "    for item in itens: # passa por cada item dentro de itens\n",
    "        print(item)\n",
    "\n",
    "# Exemplo de uso da função\n",
    "lista_de_itens = [\"Item 1\", \"Item 2\", \"Item 3\"]\n",
    "\n",
    "imprimir_itens(itens=lista_de_itens)\n"
   ]
  }
 ],
 "metadata": {
  "kernelspec": {
   "display_name": "Python 3",
   "language": "python",
   "name": "python3"
  },
  "language_info": {
   "codemirror_mode": {
    "name": "ipython",
    "version": 3
   },
   "file_extension": ".py",
   "mimetype": "text/x-python",
   "name": "python",
   "nbconvert_exporter": "python",
   "pygments_lexer": "ipython3",
   "version": "3.11.3"
  },
  "orig_nbformat": 4
 },
 "nbformat": 4,
 "nbformat_minor": 2
}
